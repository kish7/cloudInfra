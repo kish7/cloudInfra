{
 "cells": [
  {
   "cell_type": "code",
   "execution_count": 1,
   "id": "8952fee2-99a8-4747-ae70-3400eb962242",
   "metadata": {},
   "outputs": [
    {
     "name": "stdout",
     "output_type": "stream",
     "text": [
      "\u001b[33mDEPRECATION: Configuring installation scheme with distutils config files is deprecated and will no longer work in the near future. If you are using a Homebrew or Linuxbrew Python, please see discussion at https://github.com/Homebrew/homebrew-core/issues/76621\u001b[0m\n",
      "Collecting boto3\n",
      "  Downloading boto3-1.19.1-py3-none-any.whl (131 kB)\n",
      "\u001b[K     |████████████████████████████████| 131 kB 2.7 MB/s eta 0:00:01\n",
      "\u001b[?25hCollecting s3transfer<0.6.0,>=0.5.0\n",
      "  Downloading s3transfer-0.5.0-py3-none-any.whl (79 kB)\n",
      "\u001b[K     |████████████████████████████████| 79 kB 6.0 MB/s eta 0:00:01\n",
      "\u001b[?25hCollecting jmespath<1.0.0,>=0.7.1\n",
      "  Downloading jmespath-0.10.0-py2.py3-none-any.whl (24 kB)\n",
      "Collecting botocore<1.23.0,>=1.22.1\n",
      "  Downloading botocore-1.22.1-py3-none-any.whl (8.0 MB)\n",
      "\u001b[K     |████████████████████████████████| 8.0 MB 8.6 MB/s eta 0:00:01\n",
      "\u001b[?25hRequirement already satisfied: python-dateutil<3.0.0,>=2.1 in /opt/homebrew/lib/python3.9/site-packages (from botocore<1.23.0,>=1.22.1->boto3) (2.8.2)\n",
      "Requirement already satisfied: urllib3<1.27,>=1.25.4 in /opt/homebrew/lib/python3.9/site-packages (from botocore<1.23.0,>=1.22.1->boto3) (1.25.10)\n",
      "Requirement already satisfied: six>=1.5 in /opt/homebrew/lib/python3.9/site-packages (from python-dateutil<3.0.0,>=2.1->botocore<1.23.0,>=1.22.1->boto3) (1.16.0)\n",
      "Installing collected packages: jmespath, botocore, s3transfer, boto3\n",
      "\u001b[33m  DEPRECATION: Configuring installation scheme with distutils config files is deprecated and will no longer work in the near future. If you are using a Homebrew or Linuxbrew Python, please see discussion at https://github.com/Homebrew/homebrew-core/issues/76621\u001b[0m\n",
      "\u001b[33m  DEPRECATION: Configuring installation scheme with distutils config files is deprecated and will no longer work in the near future. If you are using a Homebrew or Linuxbrew Python, please see discussion at https://github.com/Homebrew/homebrew-core/issues/76621\u001b[0m\n",
      "\u001b[33m  DEPRECATION: Configuring installation scheme with distutils config files is deprecated and will no longer work in the near future. If you are using a Homebrew or Linuxbrew Python, please see discussion at https://github.com/Homebrew/homebrew-core/issues/76621\u001b[0m\n",
      "\u001b[33mDEPRECATION: Configuring installation scheme with distutils config files is deprecated and will no longer work in the near future. If you are using a Homebrew or Linuxbrew Python, please see discussion at https://github.com/Homebrew/homebrew-core/issues/76621\u001b[0m\n",
      "Successfully installed boto3-1.19.1 botocore-1.22.1 jmespath-0.10.0 s3transfer-0.5.0\n",
      "\u001b[33mWARNING: You are using pip version 21.2.4; however, version 21.3 is available.\n",
      "You should consider upgrading via the '/opt/homebrew/opt/python@3.9/bin/python3.9 -m pip install --upgrade pip' command.\u001b[0m\n",
      "Note: you may need to restart the kernel to use updated packages.\n"
     ]
    }
   ],
   "source": [
    "pip install boto3"
   ]
  },
  {
   "cell_type": "code",
   "execution_count": 2,
   "id": "2d6a6e8a-e184-4b6d-bb01-59fe4f5fb47c",
   "metadata": {},
   "outputs": [],
   "source": [
    "import boto3"
   ]
  },
  {
   "cell_type": "code",
   "execution_count": 3,
   "id": "b10c0fd5-b869-4fd5-8ffa-f765831833fb",
   "metadata": {},
   "outputs": [],
   "source": [
    "s3 = boto3.resource('s3',\n",
    "aws_access_key_id='XXXXXXXXXXX',\n",
    "aws_secret_access_key='XXXXXX'\n",
    ")"
   ]
  },
  {
   "cell_type": "code",
   "execution_count": 6,
   "id": "bb29ace5-227a-45b4-a05b-b5a8d2ae53e9",
   "metadata": {},
   "outputs": [],
   "source": [
    "try:\n",
    "    s3.create_bucket(Bucket='datacont-dynamo', CreateBucketConfiguration={\n",
    "'LocationConstraint': 'us-west-2'})\n",
    "except Exception as e:\n",
    "    print (e)"
   ]
  },
  {
   "cell_type": "code",
   "execution_count": 13,
   "id": "6ad1d57f-d9f1-44e5-b94d-02090601a9cd",
   "metadata": {},
   "outputs": [
    {
     "data": {
      "text/plain": [
       "{'ResponseMetadata': {'RequestId': 'QVF4TXXSE73SW7A3',\n",
       "  'HostId': 'X9maeBSLx8g1f85S3qTgfs0nkZ3XQ2C5atoYjxHYcdP7gX7BFHqUhjqxG2KucSaw54xbUuSUpX0=',\n",
       "  'HTTPStatusCode': 200,\n",
       "  'HTTPHeaders': {'x-amz-id-2': 'X9maeBSLx8g1f85S3qTgfs0nkZ3XQ2C5atoYjxHYcdP7gX7BFHqUhjqxG2KucSaw54xbUuSUpX0=',\n",
       "   'x-amz-request-id': 'QVF4TXXSE73SW7A3',\n",
       "   'date': 'Thu, 21 Oct 2021 21:57:58 GMT',\n",
       "   'server': 'AmazonS3',\n",
       "   'content-length': '0'},\n",
       "  'RetryAttempts': 0}}"
      ]
     },
     "execution_count": 13,
     "metadata": {},
     "output_type": "execute_result"
    }
   ],
   "source": [
    "bucket = s3.Bucket(\"datacont-dynamo\")\n",
    "bucket.Acl().put(ACL='public-read')"
   ]
  },
  {
   "cell_type": "code",
   "execution_count": 15,
   "id": "6654c990-0f34-4ba6-9371-0367b97c835b",
   "metadata": {},
   "outputs": [],
   "source": [
    "body = open('/Users/kish/14848/exp1.csv', 'rb')"
   ]
  },
  {
   "cell_type": "code",
   "execution_count": 18,
   "id": "a5bd91b7-4f9f-4ba1-9646-93193de5ef69",
   "metadata": {},
   "outputs": [],
   "source": [
    "o = s3.Object('datacont-dynamo', 'test').put(Body=body )\n"
   ]
  },
  {
   "cell_type": "code",
   "execution_count": 19,
   "id": "4207cbaf-47a2-4e53-a007-0ebf1672e34d",
   "metadata": {},
   "outputs": [
    {
     "data": {
      "text/plain": [
       "{'ResponseMetadata': {'RequestId': '76NEFD0D94ZBNZV8',\n",
       "  'HostId': 'BHd2iiDpjkYoaCP5rm43Zec+bLJgbSabMKAcWBMXduNTtueY1RdccO7DaxS+1FA9yrJCvgRuoUg=',\n",
       "  'HTTPStatusCode': 200,\n",
       "  'HTTPHeaders': {'x-amz-id-2': 'BHd2iiDpjkYoaCP5rm43Zec+bLJgbSabMKAcWBMXduNTtueY1RdccO7DaxS+1FA9yrJCvgRuoUg=',\n",
       "   'x-amz-request-id': '76NEFD0D94ZBNZV8',\n",
       "   'date': 'Thu, 21 Oct 2021 21:59:06 GMT',\n",
       "   'server': 'AmazonS3',\n",
       "   'content-length': '0'},\n",
       "  'RetryAttempts': 0}}"
      ]
     },
     "execution_count": 19,
     "metadata": {},
     "output_type": "execute_result"
    }
   ],
   "source": [
    "s3.Object('datacont-dynamo', 'test').Acl().put(ACL='public-read')"
   ]
  },
  {
   "cell_type": "code",
   "execution_count": 93,
   "id": "dcd80597-2342-4bd8-bcfd-922624866663",
   "metadata": {},
   "outputs": [],
   "source": [
    "dyndb = boto3.resource('dynamodb',\n",
    "region_name='us-west-2',\n",
    "aws_access_key_id='XXXXX',\n",
    "aws_secret_access_key='XXXXXX'\n",
    ")\n"
   ]
  },
  {
   "cell_type": "code",
   "execution_count": 95,
   "id": "6211e6ce-c0f5-41b5-91e3-e5bc857efffc",
   "metadata": {},
   "outputs": [],
   "source": [
    "try:\n",
    "    table = dyndb.create_table(\n",
    "    TableName='DataTable4',\n",
    "    KeySchema=[\n",
    "    {\n",
    "    'AttributeName': 'PartitionKey',\n",
    "    'KeyType': 'HASH'\n",
    "    },\n",
    "    {\n",
    "    'AttributeName': 'RowKey',\n",
    "    'KeyType': 'RANGE'\n",
    "    }\n",
    "    ],\n",
    "    AttributeDefinitions=[\n",
    "    {\n",
    "    'AttributeName': 'PartitionKey',\n",
    "    'AttributeType': 'S'\n",
    "    },\n",
    "    {\n",
    "    'AttributeName': 'RowKey',\n",
    "    'AttributeType': 'S'\n",
    "    },\n",
    "    ],\n",
    "    ProvisionedThroughput={\n",
    "    'ReadCapacityUnits': 5,\n",
    "    'WriteCapacityUnits': 5\n",
    "    }\n",
    "    )\n",
    "except Exception as e:\n",
    "    print (e)\n",
    "#if there is an exception, the table may already exist. if so...\n",
    "    table = dyndb.Table(\"DataTable3\")"
   ]
  },
  {
   "cell_type": "code",
   "execution_count": 96,
   "id": "a1fb8fd6-6fb9-4b74-9acd-035c8e7e4891",
   "metadata": {},
   "outputs": [],
   "source": [
    "table.meta.client.get_waiter('table_exists').wait(TableName='DataTable')"
   ]
  },
  {
   "cell_type": "code",
   "execution_count": 97,
   "id": "b07e875f-2723-41a3-9f6c-8068c37a5664",
   "metadata": {},
   "outputs": [
    {
     "name": "stdout",
     "output_type": "stream",
     "text": [
      "0\n"
     ]
    }
   ],
   "source": [
    "print(table.item_count)"
   ]
  },
  {
   "cell_type": "code",
   "execution_count": 98,
   "id": "8d9c3644-5cca-4f0b-b95b-a8a9a50942d2",
   "metadata": {},
   "outputs": [],
   "source": [
    "import csv"
   ]
  },
  {
   "cell_type": "code",
   "execution_count": 99,
   "id": "93cd86a3-8525-4f84-b6a6-6a205f88a354",
   "metadata": {},
   "outputs": [
    {
     "name": "stdout",
     "output_type": "stream",
     "text": [
      "{'PartitionKey': '1', 'RowKey': '-1', 'description': 'exp1.csv', 'date': '52', 'url': ' https://s3-us-west-2.amazonaws.com/datacont-dynamo/exp1.csv'}\n",
      "{'PartitionKey': '2', 'RowKey': '-2', 'description': 'exp2.csv', 'date': '52.1', 'url': ' https://s3-us-west-2.amazonaws.com/datacont-dynamo/exp2.csv'}\n",
      "{'PartitionKey': '3', 'RowKey': '-2.93', 'description': 'exp3.csv', 'date': '57.1', 'url': ' https://s3-us-west-2.amazonaws.com/datacont-dynamo/exp3.csv'}\n"
     ]
    }
   ],
   "source": [
    "with open('/Users/kish/14848/dynamoData/experiments.csv', 'r') as csvfile:\n",
    "    csvf = csv.reader(csvfile, delimiter=',', quotechar='|')\n",
    "    for item in csvf:\n",
    "        # print(item)\n",
    "        if(item[4] == 'URL'):\n",
    "            continue\n",
    "        body = open('/Users/kish/14848/dynamoData/datafiles/'+item[4],'rb')\n",
    "        # body.encode('utf-8')\n",
    "        s3.Object('datacont-dynamo', item[4]).put(Body=body )\n",
    "        md = s3.Object('datacont-dynamo', item[4]).Acl().put(ACL='public-read')\n",
    "        url = \" https://s3-us-west-2.amazonaws.com/datacont-dynamo/\"+item[4]\n",
    "        metadata_item = {'PartitionKey': item[0], 'RowKey': item[1],\n",
    "        'description' : item[4], 'date' : item[2], 'url':url}\n",
    "        print(metadata_item)\n",
    "        try:\n",
    "            table.put_item(Item=metadata_item)\n",
    "        except:\n",
    "            print(\"item may already be there or another failure\")"
   ]
  },
  {
   "cell_type": "code",
   "execution_count": 100,
   "id": "2ba958d2-c481-4697-ba55-bfd1eb6c928f",
   "metadata": {},
   "outputs": [
    {
     "name": "stdout",
     "output_type": "stream",
     "text": [
      "{'Item': {'PartitionKey': '2', 'RowKey': '-2', 'date': '52.1', 'description': 'exp2.csv', 'url': ' https://s3-us-west-2.amazonaws.com/datacont-dynamo/exp2.csv'}, 'ResponseMetadata': {'RequestId': 'QFL41240LGTSHH5D790B9V4QP3VV4KQNSO5AEMVJF66Q9ASUAAJG', 'HTTPStatusCode': 200, 'HTTPHeaders': {'server': 'Server', 'date': 'Thu, 21 Oct 2021 23:32:06 GMT', 'content-type': 'application/x-amz-json-1.0', 'content-length': '181', 'connection': 'keep-alive', 'x-amzn-requestid': 'QFL41240LGTSHH5D790B9V4QP3VV4KQNSO5AEMVJF66Q9ASUAAJG', 'x-amz-crc32': '284771987'}, 'RetryAttempts': 0}}\n"
     ]
    }
   ],
   "source": [
    "response = table.get_item(\n",
    "    Key={\n",
    "        'PartitionKey': '2',\n",
    "        'RowKey': '-2'\n",
    "    }\n",
    ")\n",
    "item = response['Item']\n",
    "print(response)"
   ]
  },
  {
   "cell_type": "code",
   "execution_count": null,
   "id": "fc929e57-295e-4555-95d3-11cc8b90dcd2",
   "metadata": {},
   "outputs": [],
   "source": []
  }
 ],
 "metadata": {
  "kernelspec": {
   "display_name": "Python 3 (ipykernel)",
   "language": "python",
   "name": "python3"
  },
  "language_info": {
   "codemirror_mode": {
    "name": "ipython",
    "version": 3
   },
   "file_extension": ".py",
   "mimetype": "text/x-python",
   "name": "python",
   "nbconvert_exporter": "python",
   "pygments_lexer": "ipython3",
   "version": "3.9.7"
  }
 },
 "nbformat": 4,
 "nbformat_minor": 5
}
